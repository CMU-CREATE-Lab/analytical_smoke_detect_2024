{
 "cells": [
  {
   "cell_type": "code",
   "execution_count": 1,
   "metadata": {},
   "outputs": [],
   "source": [
    "%load_ext autoreload\n",
    "%autoreload 2\n"
   ]
  },
  {
   "cell_type": "code",
   "execution_count": 2,
   "metadata": {},
   "outputs": [],
   "source": [
    "import numpy as np\n",
    "import matplotlib.pyplot as plt\n",
    "\n",
    "from video_haze_detection_v1 import *\n",
    "from common import *\n",
    "\n",
    "def show_images(vid):\n",
    "\tfig = plt.figure(figsize=(32, 32))\n",
    "    \n",
    "\tfor i in range(len(vid)):\n",
    "\t\tsub = fig.add_subplot(4, len(vid) // 4, i + 1)\n",
    "\t\tsub.imshow(vid[i] * 255.0)"
   ]
  },
  {
   "cell_type": "code",
   "execution_count": null,
   "metadata": {},
   "outputs": [],
   "source": [
    "def low_resolution_3d_haze_detection_v2(url0, url1, *, subsample, seconds): \n",
    "    vid0 = get_frames(url0, subsample=subsample, seconds=seconds)\n",
    "    height, width = vid0[0].shape[:2]\n",
    "    depth = len(vid0)\n",
    "\n",
    "    svid0 = np.array(vid0).reshape((height, width, depth, 4))\n",
    "    show_images(vid0)\n",
    "\n",
    "    vid1 = get_frames(url1, subsample=subsample, seconds=seconds)\n",
    "    svid1 = np.array(vid1).reshape((height, width, depth, 4))\n",
    "    show_images(vid1)\n",
    "\n",
    "    haze_image = solve_3d_haze_detection_v2(svid0, svid1)\n",
    "    \n",
    "    r_haze_image = haze_image.reshape((depth, height, width, 4))\n",
    "    haze_vid = [r_haze_image[i, :, :, :] for i in range(depth)]\n",
    "    show_images(haze_vid)"
   ]
  },
  {
   "cell_type": "code",
   "execution_count": 3,
   "metadata": {},
   "outputs": [],
   "source": [
    "url_no_smoke = \"https://thumbnails-v2.createlab.org/thumbnail?root=https%3A%2F%2Fbreathecam.org%2F%23v%3D4654%2C2127%2C4915%2C2322%2Cpts%26t%3D1015.36%26ps%3D0%26bt%3D20240519140924%26et%3D20240519140924%26startDwell%3D0%26endDwell%3D0%26d%3D2024-05-19%26s%3Dclairton4%26fps%3D9&width=400&height=300&format=png&fps=9&tileFormat=mp4&startDwell=0&endDwell=0&fromScreenshot&minimalUI\"\n",
    "\n",
    "url_with_smoke = \"https://thumbnails-v2.createlab.org/thumbnail?root=https%3A%2F%2Fbreathecam.org%2F%23v%3D4654%2C2127%2C4915%2C2322%2Cpts%26t%3D984.02%26ps%3D0%26bt%3D20240519135036%26et%3D20240519135036%26startDwell%3D0%26endDwell%3D0%26d%3D2024-05-19%26s%3Dclairton4%26fps%3D9&width=400&height=300&format=png&fps=9&tileFormat=mp4&startDwell=0&endDwell=0&fromScreenshot&minimalUI\"\n",
    "\n",
    "low_resolution_3d_haze_detection_v2(url_no_smoke, url_with_smoke, subsample=2, seconds=1)"
   ]
  },
  {
   "cell_type": "markdown",
   "metadata": {},
   "source": []
  },
  {
   "cell_type": "code",
   "execution_count": null,
   "metadata": {},
   "outputs": [],
   "source": []
  }
 ],
 "metadata": {
  "kernelspec": {
   "display_name": "venv",
   "language": "python",
   "name": "python3"
  },
  "language_info": {
   "codemirror_mode": {
    "name": "ipython",
    "version": 3
   },
   "file_extension": ".py",
   "mimetype": "text/x-python",
   "name": "python",
   "nbconvert_exporter": "python",
   "pygments_lexer": "ipython3",
   "version": "3.11.9"
  }
 },
 "nbformat": 4,
 "nbformat_minor": 2
}
