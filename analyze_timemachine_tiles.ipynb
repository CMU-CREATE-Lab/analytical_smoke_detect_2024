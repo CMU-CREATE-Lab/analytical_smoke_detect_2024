{
 "cells": [
  {
   "cell_type": "markdown",
   "metadata": {},
   "source": []
  },
  {
   "cell_type": "code",
   "execution_count": 1,
   "metadata": {},
   "outputs": [
    {
     "name": "stdout",
     "output_type": "stream",
     "text": [
      "Fetching /data/usr11/timemachines/ecam/westmifflin1/2022/01/2022-01-01.timemachine/tm.json\n",
      "Fetching /data/usr11/timemachines/ecam/westmifflin1/2022/01/2022-01-01.timemachine/crf26-12fps-1424x800/r.json\n",
      "TimeMachine has 3 levels and 14353 frames\n"
     ]
    }
   ],
   "source": [
    "from timemachine import TimeMachine\n",
    "timemachine_path = \"/data/usr11/timemachines/ecam/westmifflin1/2022/01/2022-01-01.timemachine\"\n",
    "#timemachine_path = \"/data/usr11/timemachines/ecam/clairton3/2023/12/2023-12-01.timemachine\"\n",
    "tm = TimeMachine(timemachine_path)\n",
    "import re\n"
   ]
  },
  {
   "cell_type": "code",
   "execution_count": null,
   "metadata": {},
   "outputs": [
    {
     "data": {
      "text/plain": [
       "['/data/usr11/timemachines/ecam/westmifflin1/2022/01/2022-01-10.timemachine',\n",
       " '/data/usr11/timemachines/ecam/westmifflin1/2022/01/2022-01-25.timemachine',\n",
       " '/data/usr11/timemachines/ecam/westmifflin1/2022/01/2022-01-01.timemachine',\n",
       " '/data/usr11/timemachines/ecam/westmifflin1/2022/01/2022-01-22.timemachine',\n",
       " '/data/usr11/timemachines/ecam/westmifflin1/2022/01/2022-01-30.timemachine',\n",
       " '/data/usr11/timemachines/ecam/westmifflin1/2022/01/2022-01-24.timemachine',\n",
       " '/data/usr11/timemachines/ecam/westmifflin1/2022/01/2022-01-12.timemachine',\n",
       " '/data/usr11/timemachines/ecam/westmifflin1/2022/01/2022-01-21.timemachine',\n",
       " '/data/usr11/timemachines/ecam/westmifflin1/2022/01/2022-01-09.timemachine',\n",
       " '/data/usr11/timemachines/ecam/westmifflin1/2022/01/2022-01-02.timemachine',\n",
       " '/data/usr11/timemachines/ecam/westmifflin1/2022/01/2022-01-26.timemachine',\n",
       " '/data/usr11/timemachines/ecam/westmifflin1/2022/01/2022-01-27.timemachine',\n",
       " '/data/usr11/timemachines/ecam/westmifflin1/2022/01/2022-01-23.timemachine',\n",
       " '/data/usr11/timemachines/ecam/westmifflin1/2022/01/2022-01-05.timemachine',\n",
       " '/data/usr11/timemachines/ecam/westmifflin1/2022/01/2022-01-28.timemachine',\n",
       " '/data/usr11/timemachines/ecam/westmifflin1/2022/01/2022-01-07.timemachine',\n",
       " '/data/usr11/timemachines/ecam/westmifflin1/2022/01/2022-01-13.timemachine',\n",
       " '/data/usr11/timemachines/ecam/westmifflin1/2022/01/2022-01-04.timemachine',\n",
       " '/data/usr11/timemachines/ecam/westmifflin1/2022/01/2022-01-29.timemachine',\n",
       " '/data/usr11/timemachines/ecam/westmifflin1/2022/01/2022-01-06.timemachine',\n",
       " '/data/usr11/timemachines/ecam/westmifflin1/2022/01/2022-01-03.timemachine',\n",
       " '/data/usr11/timemachines/ecam/westmifflin1/2022/01/2022-01-20.timemachine',\n",
       " '/data/usr11/timemachines/ecam/westmifflin1/2022/01/2022-01-31.timemachine',\n",
       " '/data/usr11/timemachines/ecam/westmifflin1/2022/01/2022-01-11.timemachine',\n",
       " '/data/usr11/timemachines/ecam/westmifflin1/2022/01/2022-01-08.timemachine']"
      ]
     },
     "execution_count": 6,
     "metadata": {},
     "output_type": "execute_result"
    }
   ],
   "source": [
    "\n",
    "find_timemachine_paths_recursively(\"/data/usr11/timemachines/ecam/westmifflin1/2022/01\")\n"
   ]
  },
  {
   "cell_type": "code",
   "execution_count": null,
   "metadata": {},
   "outputs": [],
   "source": []
  }
 ],
 "metadata": {
  "kernelspec": {
   "display_name": "venv",
   "language": "python",
   "name": "python3"
  },
  "language_info": {
   "codemirror_mode": {
    "name": "ipython",
    "version": 3
   },
   "file_extension": ".py",
   "mimetype": "text/x-python",
   "name": "python",
   "nbconvert_exporter": "python",
   "pygments_lexer": "ipython3",
   "version": "3.12.9"
  }
 },
 "nbformat": 4,
 "nbformat_minor": 2
}
