{
 "cells": [
  {
   "cell_type": "code",
   "execution_count": 1,
   "metadata": {},
   "outputs": [],
   "source": [
    "import datetime\n",
    "import numpy as np\n",
    "import cv2 as cv\n",
    "import os\n",
    "\n",
    "from matplotlib import pyplot as plt\n",
    "from pathlib import Path\n",
    "\n",
    "from breathecam import BreatheCam\n",
    "from cmn import make_video_div, write_mp4_video, write_video_html\n",
    "from motion import MotionAnalysis, TemporalContour\n",
    "from view import View"
   ]
  },
  {
   "cell_type": "code",
   "execution_count": 2,
   "metadata": {},
   "outputs": [],
   "source": [
    "def write_events_html(\n",
    "        contours: list[TemporalContour],\n",
    "        events: list[np.ndarray], \n",
    "        path: str, \n",
    "        videos_dir: str, *, \n",
    "        title: str = \"\", \n",
    "        prefix: str = \"event\"):\n",
    "    \n",
    "    video_divs = []\n",
    "    videos_dir = videos_dir.strip()\n",
    "\n",
    "    if videos_dir.endswith('/'):\n",
    "        videos_dir = videos_dir[:-1]\n",
    "\n",
    "    Path(os.path.dirname(path)).mkdir(parents=True, exist_ok=True)\n",
    "    Path(videos_dir).mkdir(parents=True, exist_ok=True)\n",
    "    \n",
    "    for i, contour in enumerate(contours):\n",
    "        video_name = f\"{videos_dir}/{prefix}{i + 1}.mp4\"\n",
    "\n",
    "        try:\n",
    "            write_mp4_video(video_name, events[i])\n",
    "            size = events[i].shape[0:3]\n",
    "\n",
    "            metadata = [\n",
    "                f\"Video {i + 1}\",\n",
    "                f\"Start Frame: {contour.frames[0]}\"\n",
    "                f\"Dimensions: {size[0]} {size[2]}x{size[1]} frames\",\n",
    "                f\"Points in Contour: {contour.number_of_points}\",\n",
    "                f\"Contour Area: {contour.width * contour.height}\", \n",
    "                f\"Point Density in Contour Area: {contour.density(5)}\"\n",
    "            ]\n",
    "\n",
    "            video_divs.append(make_video_div(video_name, metadata))\n",
    "        except BrokenPipeError as e:\n",
    "            print(e)\n",
    "\n",
    "    write_video_html(path, '\\n'.join(video_divs), title)"
   ]
  },
  {
   "cell_type": "code",
   "execution_count": 3,
   "metadata": {},
   "outputs": [],
   "source": [
    "day = datetime.date.fromisoformat(\"2024-05-19\")\n",
    "nlevels = 4\n",
    "#view = View(4653, 2127, 4915, 2322)\n",
    "view = View(2307, 1914, 6814, 2515)\n",
    "view_ss = view.subsample(nlevels)\n",
    "day_time = datetime.time.fromisoformat(\"09:49:00\")\n",
    "breathecam = BreatheCam.init_from(\"Clairton Coke Works\", day)"
   ]
  },
  {
   "cell_type": "code",
   "execution_count": 7,
   "metadata": {},
   "outputs": [],
   "source": [
    "def run_analysis(frames: int, background_subtractor):    \n",
    "    print(f\"Size: {view.width}x{view.height} ({view.width * view.height} pixels)\")\n",
    "    print(f\"Subsampled Size: {view_ss.width}x{view_ss.height} ({view_ss.width * view_ss.height})\")    \n",
    "\n",
    "    return breathecam.analyze(day_time, view, frames, nlevels=nlevels, background_subtractor=background_subtractor)\n",
    "\n",
    "\n",
    "def get_no_white_pixels(analysis: MotionAnalysis, neighbors: int = 8, depth: int = 3) -> list[TemporalContour]:\n",
    "    print(f\"Neighbors: {neighbors}\")\n",
    "    print(f\"Temporal Window: {depth}\")\n",
    "\n",
    "    hls_video = np.array([cv.cvtColor(f, cv.COLOR_RGB2HLS) for f in analysis.video])\n",
    "\n",
    "    contours = analysis.contours(neighbors=neighbors, depth=depth)\n",
    "    contours = [c for c in contours if c.number_of_points > 100]\n",
    "    contours = [c for c in contours if not analysis.has_white_pixel(c, hls_video, nlevels=1, lightness_lower_bound=160)]\n",
    "    \n",
    "    print(f\"Events with no white pixels: {len(contours)}\\n\")\n",
    "    \n",
    "    contours.sort(key=lambda c: c.number_of_points, reverse=True)\n",
    "\n",
    "    return contours\n",
    "\n",
    "    \n",
    "def emit_events(analysis: MotionAnalysis,\n",
    "                contours: list[TemporalContour], \n",
    "                path: str, \n",
    "                videos_dir: str, *, \n",
    "                title: str = \"\", \n",
    "                prefix: str = \"event\"):\n",
    "\n",
    "    full_res_video = breathecam.download_video(day_time, analysis.number_of_frames, view, nlevels=1)\n",
    "    events = [analysis.get_contour(c, full_res_video, nlevels=nlevels, pad_frames=5, pad_region=128) for c in contours]\n",
    "    write_events_html(contours, events, path, videos_dir, title = title, prefix=prefix)"
   ]
  },
  {
   "cell_type": "code",
   "execution_count": 5,
   "metadata": {},
   "outputs": [
    {
     "name": "stdout",
     "output_type": "stream",
     "text": [
      "Size: 4507x601 (2708707 pixels)\n",
      "Subsampled Size: 1127x151 (170177)\n",
      "Neighbors: 8\n",
      "Temporal Window: 3\n",
      "Events with no white pixels: 50\n",
      "\n"
     ]
    }
   ],
   "source": [
    "nframes = 40\n",
    "bgsub_type = \"MOG2\"\n",
    "bgsub = cv.createBackgroundSubtractorMOG2(detectShadows=True, varThreshold=9)\n",
    "analysis = run_analysis(nframes, bgsub)\n",
    "contours_no_white = get_no_white_pixels(analysis, neighbors=8, depth=3)"
   ]
  },
  {
   "cell_type": "code",
   "execution_count": 8,
   "metadata": {},
   "outputs": [],
   "source": [
    "emit_events(\n",
    "        analysis, \n",
    "        contours_no_white, \n",
    "        \"./events_1800_frames_no_white.html\",\n",
    "        \"smoke_detect/events/1800\",\n",
    "        title=\"Events - 1800 Frames - No White Pixels\",\n",
    "        prefix=\"event_\")"
   ]
  },
  {
   "cell_type": "code",
   "execution_count": null,
   "metadata": {},
   "outputs": [],
   "source": []
  }
 ],
 "metadata": {
  "kernelspec": {
   "display_name": "venv",
   "language": "python",
   "name": "python3"
  },
  "language_info": {
   "codemirror_mode": {
    "name": "ipython",
    "version": 3
   },
   "file_extension": ".py",
   "mimetype": "text/x-python",
   "name": "python",
   "nbconvert_exporter": "python",
   "pygments_lexer": "ipython3",
   "version": "3.11.11"
  }
 },
 "nbformat": 4,
 "nbformat_minor": 2
}
