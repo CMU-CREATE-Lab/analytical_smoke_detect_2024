{
 "cells": [
  {
   "cell_type": "code",
   "id": "initial_id",
   "metadata": {
    "collapsed": true
   },
   "source": [
    "%load_ext autoreload\n",
    "%autoreload 2"
   ],
   "outputs": [],
   "execution_count": null
  },
  {
   "metadata": {},
   "cell_type": "code",
   "source": [
    "import matplotlib.pyplot as plt\n",
    "import common\n",
    "\n",
    "from parallel_haze_detection_v1 import solve_parallel_haze_detection_v1\n",
    "\n",
    "common.regression_test()"
   ],
   "id": "24b0127520ba9c9c",
   "outputs": [],
   "execution_count": null
  },
  {
   "metadata": {},
   "cell_type": "code",
   "source": [
    "def low_resolution_haze_detection_v3():\n",
    "    subsample = 8\n",
    "    url0 = \"https://thumbnails-v2.createlab.org/thumbnail?root=https%3A%2F%2Fbreathecam.org%2F%23v%3D4654%2C2127%2C4915%2C2322%2Cpts%26t%3D1015.36%26ps%3D0%26bt%3D20240519140924%26et%3D20240519140924%26startDwell%3D0%26endDwell%3D0%26d%3D2024-05-19%26s%3Dclairton4%26fps%3D9&width=400&height=300&format=png&fps=9&tileFormat=mp4&startDwell=0&endDwell=0&fromScreenshot&minimalUI\"\n",
    "    im0 = common.read_image_from_url(url0, subsample=subsample) / 255.0\n",
    "    print(im0.shape)\n",
    "    plt.title(\"Input: no smoke\")\n",
    "    plt.imshow(im0 * 255.0)\n",
    "    plt.show()\n",
    "    url1 = \"https://thumbnails-v2.createlab.org/thumbnail?root=https%3A%2F%2Fbreathecam.org%2F%23v%3D4654%2C2127%2C4915%2C2322%2Cpts%26t%3D984.02%26ps%3D0%26bt%3D20240519135036%26et%3D20240519135036%26startDwell%3D0%26endDwell%3D0%26d%3D2024-05-19%26s%3Dclairton4%26fps%3D9&width=400&height=300&format=png&fps=9&tileFormat=mp4&startDwell=0&endDwell=0&fromScreenshot&minimalUI\"\n",
    "    im1 = common.read_image_from_url(url1, subsample=subsample) / 255.0\n",
    "    plt.title(\"Input: with smoke\")\n",
    "    plt.imshow(im1 * 255.0)\n",
    "    plt.show()\n",
    "    haze_image = solve_parallel_haze_detection_v1(im0, im1)\n",
    "    plt.title(\"Output: Smoke\")\n",
    "    plt.imshow(haze_image * 255.0)\n",
    "    plt.show()\n",
    "\n",
    "low_resolution_haze_detection_v3()"
   ],
   "id": "2dbfb2145679281c",
   "outputs": [],
   "execution_count": null
  }
 ],
 "metadata": {
  "kernelspec": {
   "display_name": "Python 3",
   "language": "python",
   "name": "python3"
  },
  "language_info": {
   "codemirror_mode": {
    "name": "ipython",
    "version": 2
   },
   "file_extension": ".py",
   "mimetype": "text/x-python",
   "name": "python",
   "nbconvert_exporter": "python",
   "pygments_lexer": "ipython2",
   "version": "2.7.6"
  }
 },
 "nbformat": 4,
 "nbformat_minor": 5
}
